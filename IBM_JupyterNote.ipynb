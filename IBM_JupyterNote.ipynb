{
 "cells": [
  {
   "cell_type": "markdown",
   "metadata": {
    "collapsed": true
   },
   "source": [
    "# My Jupyter Notebook on IBM Watson Studio"
   ]
  },
  {
   "cell_type": "markdown",
   "metadata": {},
   "source": [
    "__Yasaman Sattari__"
   ]
  },
  {
   "cell_type": "markdown",
   "metadata": {},
   "source": [
    "Data scientist in the field of medicine"
   ]
  },
  {
   "cell_type": "markdown",
   "metadata": {},
   "source": [
    "_I am interested in data science because it is a new and exciting science._\n"
   ]
  },
  {
   "cell_type": "markdown",
   "metadata": {},
   "source": [
    "### This code takes 2 numbers from the input and adds them together"
   ]
  },
  {
   "cell_type": "code",
   "execution_count": 1,
   "metadata": {},
   "outputs": [
    {
     "name": "stdout",
     "output_type": "stream",
     "text": [
      "Enter first Number : 10\n",
      "Enter second Number : 15\n",
      "SUM IS :  25\n"
     ]
    }
   ],
   "source": [
    "first_num = int(input(\"Enter first Number : \"))\n",
    "second_num = int(input(\"Enter second Number : \"))\n",
    "\n",
    "print(\"SUM IS : \",first_num + second_num)"
   ]
  },
  {
   "cell_type": "markdown",
   "metadata": {},
   "source": [
    "<hr>\n",
    "\n",
    "- __One__\n",
    "- __Two__\n",
    "- __Three__\n",
    "\n",
    "- __One__\n",
    "- __Two__\n",
    "- __Three__\n",
    "\n",
    " "
   ]
  },
  {
   "cell_type": "markdown",
   "metadata": {},
   "source": [
    "\n",
    "<table>\n",
    "   <tr style=\"border-bottom: 1px solid black;\">\n",
    "    <td>Markdown</td>\n",
    "    <td>Less</td>\n",
    "    <td>Pretty</td>\n",
    "  </tr>\n",
    "  <tr>\n",
    "    <td>Still</td>\n",
    "    <td>renders</td>\n",
    "    <td>nicely</td>\n",
    "  </tr>\n",
    "  <tr>\n",
    "    <td>1</td>\n",
    "    <td>2</td>\n",
    "    <td>3</td>\n",
    "  </tr>\n",
    "</table>\n",
    "\n"
   ]
  },
  {
   "cell_type": "markdown",
   "metadata": {},
   "source": [
    "__[ibm.com](https://www.ibm.com/)__"
   ]
  },
  {
   "cell_type": "code",
   "execution_count": null,
   "metadata": {},
   "outputs": [],
   "source": []
  }
 ],
 "metadata": {
  "kernelspec": {
   "display_name": "Python 3.9",
   "language": "python",
   "name": "python3"
  },
  "language_info": {
   "codemirror_mode": {
    "name": "ipython",
    "version": 3
   },
   "file_extension": ".py",
   "mimetype": "text/x-python",
   "name": "python",
   "nbconvert_exporter": "python",
   "pygments_lexer": "ipython3",
   "version": "3.9.13"
  }
 },
 "nbformat": 4,
 "nbformat_minor": 1
}
